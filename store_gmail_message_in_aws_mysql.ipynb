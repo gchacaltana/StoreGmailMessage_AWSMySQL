{
  "nbformat": 4,
  "nbformat_minor": 0,
  "metadata": {
    "colab": {
      "name": "python_gmail_mysql_aws.ipynb",
      "provenance": []
    },
    "kernelspec": {
      "name": "python3",
      "display_name": "Python 3"
    }
  },
  "cells": [
    {
      "cell_type": "code",
      "metadata": {
        "id": "SAq4wghzc4LS",
        "colab_type": "code",
        "outputId": "2852dcc9-88a6-4fb4-a346-f2857ec1be0d",
        "colab": {
          "base_uri": "https://localhost:8080/",
          "height": 127
        }
      },
      "source": [
        "# Instalando package pymysql\n",
        "!pip install pymysql"
      ],
      "execution_count": 0,
      "outputs": [
        {
          "output_type": "stream",
          "text": [
            "Collecting pymysql\n",
            "\u001b[?25l  Downloading https://files.pythonhosted.org/packages/ed/39/15045ae46f2a123019aa968dfcba0396c161c20f855f11dea6796bcaae95/PyMySQL-0.9.3-py2.py3-none-any.whl (47kB)\n",
            "\r\u001b[K     |██████▉                         | 10kB 26.7MB/s eta 0:00:01\r\u001b[K     |█████████████▊                  | 20kB 5.0MB/s eta 0:00:01\r\u001b[K     |████████████████████▋           | 30kB 7.2MB/s eta 0:00:01\r\u001b[K     |███████████████████████████▌    | 40kB 5.3MB/s eta 0:00:01\r\u001b[K     |████████████████████████████████| 51kB 3.8MB/s \n",
            "\u001b[?25hInstalling collected packages: pymysql\n",
            "Successfully installed pymysql-0.9.3\n"
          ],
          "name": "stdout"
        }
      ]
    },
    {
      "cell_type": "code",
      "metadata": {
        "id": "0n5x1nOygk5q",
        "colab_type": "code",
        "colab": {}
      },
      "source": [
        "import email, getpass, imaplib, os, re"
      ],
      "execution_count": 0,
      "outputs": []
    },
    {
      "cell_type": "code",
      "metadata": {
        "id": "KqIMcWZIgrGh",
        "colab_type": "code",
        "colab": {}
      },
      "source": [
        "detach_dir = \"c:\\data_gmail\""
      ],
      "execution_count": 0,
      "outputs": []
    },
    {
      "cell_type": "markdown",
      "metadata": {
        "id": "6vXmgP8Q-NyO",
        "colab_type": "text"
      },
      "source": [
        "### Conexión al correo Gmail con python"
      ]
    },
    {
      "cell_type": "code",
      "metadata": {
        "id": "iLUINsKFit5I",
        "colab_type": "code",
        "colab": {}
      },
      "source": [
        "server_imap = \"imap.gmail.com\"\n",
        "user = input(\"cuenta:\")\n",
        "pwd = getpass.getpass(\"password:\")\n",
        "m = imaplib.IMAP4_SSL(server_imap)\n",
        "m.login(user, pwd)"
      ],
      "execution_count": 0,
      "outputs": []
    },
    {
      "cell_type": "markdown",
      "metadata": {
        "id": "7_QzpP6A-CtW",
        "colab_type": "text"
      },
      "source": [
        "### Búsqueda de palabra clave en subject y body"
      ]
    },
    {
      "cell_type": "code",
      "metadata": {
        "id": "6o7WFdwF9sKw",
        "colab_type": "code",
        "colab": {}
      },
      "source": [
        "m.list()\n",
        "m.select('\"[Gmail]/All Mail\"')"
      ],
      "execution_count": 0,
      "outputs": []
    },
    {
      "cell_type": "code",
      "metadata": {
        "id": "8_svOyPE94R9",
        "colab_type": "code",
        "colab": {}
      },
      "source": [
        "typ, data = m.search(None,'(OR (subject \"México\") (body\n",
        "\"México\"))')"
      ],
      "execution_count": 0,
      "outputs": []
    },
    {
      "cell_type": "markdown",
      "metadata": {
        "id": "wwjmNRnq-ZrF",
        "colab_type": "text"
      },
      "source": [
        "### Lectura de emails y almacenamiento de data"
      ]
    },
    {
      "cell_type": "code",
      "metadata": {
        "id": "KvCONWA9-ehr",
        "colab_type": "code",
        "colab": {}
      },
      "source": [
        "for i in data[0].split():\n",
        "  typ, data = m.fetch(i, '(RFC822)' )\n",
        "  msgs.append(data)\n",
        "  for response_part in data:\n",
        "    if isinstance(response_part, tuple):\n",
        "      msg = email.message_from_string(response_part[1].decode('UTF-8'))\n",
        "      email_subject = msg['subject']\n",
        "      email_from = msg['from']\n",
        "      email_from = re.findall(\"<.*>\",email_from)[0][1:-1]\n",
        "      email_date = msg['Date']\n",
        "      # print(type(email_date))\n",
        "      data_to_db.append([email_from,email_subject,email_date])"
      ],
      "execution_count": 0,
      "outputs": []
    },
    {
      "cell_type": "markdown",
      "metadata": {
        "id": "5g_zDVn8_Jcf",
        "colab_type": "text"
      },
      "source": [
        "### Preparando data manual (opción 02)"
      ]
    },
    {
      "cell_type": "code",
      "metadata": {
        "id": "fFuC2YAV_IUr",
        "colab_type": "code",
        "colab": {
          "base_uri": "https://localhost:8080/",
          "height": 125
        },
        "outputId": "e4a658a5-46fc-43c2-c870-cb47cbb88785"
      },
      "source": [
        "data = ([\"noreply@despegar.com\",\"¡Genial! Tu viaje está confirmado\",\"2019-11-10 17:10:22\"],\n",
        "        [\"noreply@selfcheckin.copaair.com\",\"¡Tu Pase de Abordar está listo!\",\"2019-11-29 02:51:22\"])\n",
        "data"
      ],
      "execution_count": 5,
      "outputs": [
        {
          "output_type": "execute_result",
          "data": {
            "text/plain": [
              "(['noreply@despegar.com',\n",
              "  '¡Genial! Tu viaje está confirmado',\n",
              "  '2019-11-10 17:10:22'],\n",
              " ['noreply@selfcheckin.copaair.com',\n",
              "  '¡Tu Pase de Abordar está listo!',\n",
              "  '2019-11-29 02:51:22'])"
            ]
          },
          "metadata": {
            "tags": []
          },
          "execution_count": 5
        }
      ]
    },
    {
      "cell_type": "markdown",
      "metadata": {
        "id": "ZAByUQrb_WnW",
        "colab_type": "text"
      },
      "source": [
        "### Conexión a la base de datos AWS con python"
      ]
    },
    {
      "cell_type": "code",
      "metadata": {
        "id": "0JPpOftil_t2",
        "colab_type": "code",
        "colab": {}
      },
      "source": [
        "host = \"mldatabase.cjickisvcb37.us-east-2.rds.amazonaws.com\"\n",
        "user = \"admin\"\n",
        "pswd = \"Mercadolibre123\"\n",
        "dbnm = \"CIMAT\"\n",
        "port = 3306\n",
        "mysql = pymysql.connect(host,user,pswd,dbnm)"
      ],
      "execution_count": 0,
      "outputs": []
    },
    {
      "cell_type": "markdown",
      "metadata": {
        "id": "5MUWlVXi_lEZ",
        "colab_type": "text"
      },
      "source": [
        "### Crear tabla para almacenar información de emails"
      ]
    },
    {
      "cell_type": "code",
      "metadata": {
        "id": "hUOhaObVm5tI",
        "colab_type": "code",
        "colab": {}
      },
      "source": [
        "cursor = mysql.cursor()\n",
        "sql = 'CREATE TABLE IF NOT EXISTS GONZALO_CHACALTANA (id int AUTO_INCREMENT ,`FROM` varchar(100), `SUBJECT` varchar(100), `DATE` varchar(100),PRIMARY KEY(id))'\n",
        "cursor.execute(sql)\n",
        "cursor.close()"
      ],
      "execution_count": 0,
      "outputs": []
    },
    {
      "cell_type": "markdown",
      "metadata": {
        "id": "-wIj-Y82_tox",
        "colab_type": "text"
      },
      "source": [
        "### Mostrar tablas de base de datos"
      ]
    },
    {
      "cell_type": "code",
      "metadata": {
        "id": "XqJ3xVP02IOk",
        "colab_type": "code",
        "outputId": "82256227-606d-4b87-e209-32809ad6e11c",
        "colab": {
          "base_uri": "https://localhost:8080/",
          "height": 89
        }
      },
      "source": [
        "cursor = mysql.cursor()\n",
        "sql= \"SHOW TABLES\"\n",
        "# Execute the sqlQuery\n",
        "cursor.execute(sql)\n",
        "rows = cursor.fetchall()\n",
        "cursor.close()\n",
        "rows"
      ],
      "execution_count": 0,
      "outputs": [
        {
          "output_type": "execute_result",
          "data": {
            "text/plain": [
              "(('DEYDITH_GUZMAN',),\n",
              " ('GONZALO_CHACALTANA',),\n",
              " ('JONATHAN',),\n",
              " ('MARIA_MORENO',))"
            ]
          },
          "metadata": {
            "tags": []
          },
          "execution_count": 25
        }
      ]
    },
    {
      "cell_type": "markdown",
      "metadata": {
        "id": "m5ft3ztGACAN",
        "colab_type": "text"
      },
      "source": [
        "### Insertar registros a tabla"
      ]
    },
    {
      "cell_type": "code",
      "metadata": {
        "id": "XEs36EJP21CS",
        "colab_type": "code",
        "colab": {}
      },
      "source": [
        "sql = \"\"\"INSERT INTO GONZALO_CHACALTANA (`FROM` , `SUBJECT` , `DATE`) VALUES ( %s, %s, %s) \"\"\"\n",
        "cursor = mysql.cursor()\n",
        "cursor.executemany(sql, data)\n",
        "mysql.commit()\n",
        "cursor.close()"
      ],
      "execution_count": 0,
      "outputs": []
    },
    {
      "cell_type": "markdown",
      "metadata": {
        "id": "Bb1wcpj2AJu2",
        "colab_type": "text"
      },
      "source": [
        "### Obtener registros de tabla"
      ]
    },
    {
      "cell_type": "code",
      "metadata": {
        "id": "ckL6EkDG33Eu",
        "colab_type": "code",
        "outputId": "6876d86f-1cb1-4ee1-9b18-0264492a32a7",
        "colab": {
          "base_uri": "https://localhost:8080/",
          "height": 35
        }
      },
      "source": [
        "cursor = mysql.cursor()\n",
        "sql= \"SELECT * FROM GONZALO_CHACALTANA\"\n",
        "cursor.execute(sql)\n",
        "rows = cursor.fetchall()\n",
        "cursor.close()\n",
        "rows"
      ],
      "execution_count": 0,
      "outputs": [
        {
          "output_type": "execute_result",
          "data": {
            "text/plain": [
              "()"
            ]
          },
          "metadata": {
            "tags": []
          },
          "execution_count": 34
        }
      ]
    },
    {
      "cell_type": "markdown",
      "metadata": {
        "id": "lYpJ1JdYANdR",
        "colab_type": "text"
      },
      "source": [
        "### Cerrando conexión MySQL"
      ]
    },
    {
      "cell_type": "code",
      "metadata": {
        "id": "cUc9Njy04Lpi",
        "colab_type": "code",
        "colab": {}
      },
      "source": [
        "mysql.close()"
      ],
      "execution_count": 0,
      "outputs": []
    }
  ]
}